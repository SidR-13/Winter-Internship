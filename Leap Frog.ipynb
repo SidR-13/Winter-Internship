{
 "cells": [
  {
   "cell_type": "code",
   "execution_count": null,
   "metadata": {},
   "outputs": [],
   "source": []
  },
  {
   "cell_type": "code",
   "execution_count": 1,
   "metadata": {},
   "outputs": [
    {
     "name": "stdout",
     "output_type": "stream",
     "text": [
      "['G', 'G', 'G', '-', 'B', 'B', 'B']\n"
     ]
    }
   ],
   "source": [
    "#Leap Frog Game\n",
    "positions=['G','G','G','-','B','B','B']\n",
    "print(positions)"
   ]
  },
  {
   "cell_type": "code",
   "execution_count": 4,
   "metadata": {},
   "outputs": [
    {
     "name": "stdout",
     "output_type": "stream",
     "text": [
      "### Always enter the values less than 7 ###\n",
      "[ 0 ,  1 ,  2 ,  3 ,  4 ,  5 ,  6 ]\n",
      "['G', 'G', 'G', '-', 'B', 'B', 'B']\n"
     ]
    }
   ],
   "source": [
    "#To let the user know about the valid positions\n",
    "print(\"### Always enter the values less than 7 ###\") \n",
    "print(\"[ 0 ,  1 ,  2 ,  3 ,  4 ,  5 ,  6 ]\")\n",
    "print(positions)\n"
   ]
  },
  {
   "cell_type": "code",
   "execution_count": 5,
   "metadata": {},
   "outputs": [],
   "source": [
    "#To take the input from the user and allow the user to press 'q' button to reset\n",
    "\n",
    "pos = input('Press q to quit the game \\n Enter the poistion of piece')"
   ]
  },
  {
   "cell_type": "code",
   "execution_count": 6,
   "metadata": {},
   "outputs": [
    {
     "name": "stdout",
     "output_type": "stream",
     "text": [
      "You have lost the game\n"
     ]
    }
   ],
   "source": [
    "#If the input from the user is 'q', then the user loses the game\n",
    "\n",
    "if pos == 'q':\n",
    "    print(\"You have lost the game\")"
   ]
  },
  {
   "cell_type": "code",
   "execution_count": 7,
   "metadata": {},
   "outputs": [],
   "source": [
    "#if the character is not q, convert input to integer.\n",
    "pos = int(input())"
   ]
  },
  {
   "cell_type": "code",
   "execution_count": 8,
   "metadata": {},
   "outputs": [],
   "source": [
    "#to check the validity of the position\n",
    "\n",
    "if pos<0 or 6<pos:\n",
    "    print(\"Invalid move!!!\")"
   ]
  },
  {
   "cell_type": "code",
   "execution_count": 10,
   "metadata": {},
   "outputs": [],
   "source": [
    "#if the entered position is same as empty leaf, then print invalid move\n",
    "\n",
    "if positions[pos] == '-':\n",
    "    print(\"Invalid move\")"
   ]
  },
  {
   "cell_type": "code",
   "execution_count": 15,
   "metadata": {},
   "outputs": [],
   "source": [
    "#initializing a variable pos 2 to store the value of empty leaf\n",
    "pos2 = 0\n",
    "if positions[pos] == 'G':\n",
    "    if positions[pos + 1] == '-':\n",
    "            pos2 = (pos+1)\n",
    "    elif positions[pos + 2] == '-':\n",
    "            pos2 = (pos+2)\n",
    "if positions[pos] == 'B':\n",
    "    if positions[pos - 1] == '-':\n",
    "            pos2 = (pos-1)\n",
    "    elif positions[pos - 2] == '-':\n",
    "            pos2 = (pos-2)\n",
    "positions[pos], positions[pos2] = positions[pos2], positions[pos]\n",
    "\n",
    "\n",
    "\n"
   ]
  },
  {
   "cell_type": "code",
   "execution_count": 16,
   "metadata": {},
   "outputs": [
    {
     "name": "stdout",
     "output_type": "stream",
     "text": [
      "###### Always enter an integer less that 7 ######\n",
      "[ 0 ,  1 ,  2 ,  3 ,  4 ,  5 ,  6 ]\n",
      "['G', 'G', 'G', '-', 'B', 'B', 'B']\n",
      "[ 0 ,  1 ,  2 ,  3 ,  4 ,  5 ,  6 ]\n",
      "['G', 'G', '-', 'G', 'B', 'B', 'B']\n",
      "YOU LOSE!!\n"
     ]
    }
   ],
   "source": [
    "#final code\n",
    "\n",
    "Positions = list(['G','G','G','-','B','B','B'])\n",
    "print(\"###### Always enter an integer less that 7 ######\")\n",
    "print(\"[ 0 ,  1 ,  2 ,  3 ,  4 ,  5 ,  6 ]\")\n",
    "print(Positions)\n",
    "\n",
    "while True:\n",
    "    pos = input(\"Press q to quit else \\nEnter position of piece:\")\n",
    "    if pos == 'q':\n",
    "        print(\"YOU LOSE!!\")\n",
    "        break\n",
    "    pos = int(pos)\n",
    "\n",
    "    if pos<0 or 6<pos:\n",
    "        print(\"Invalid move\")\n",
    "        continue\n",
    "    if Positions[pos] == '-':\n",
    "        print(\"Invalid move\")\n",
    "        continue\n",
    "\n",
    "    if Positions[pos] == 'G':\n",
    "        if (pos + 1) <= 6 and Positions[pos + 1] == '-':\n",
    "            pass\n",
    "        elif (pos + 2) <= 6 and Positions[pos + 2] == '-' and Positions[pos + 1] == 'B':\n",
    "            pass\n",
    "        else:\n",
    "            print(\"Invalid move\")\n",
    "            break\n",
    "    if Positions[pos] == 'B':\n",
    "        if (pos - 1) >= 0 and Positions[pos - 1] == '-':\n",
    "            pass\n",
    "        elif (pos - 2) >= 0 and Positions[pos - 2] == '-' and Positions[pos - 1] == 'G':\n",
    "            pass\n",
    "        else:\n",
    "            print(\"Invalid move\")\n",
    "\n",
    "    pos2 = 0\n",
    "    if Positions[pos] == 'G':\n",
    "        if Positions[pos + 1] == '-':\n",
    "            pos2 = (pos+1)\n",
    "        elif Positions[pos + 2] == '-':\n",
    "            pos2 = (pos+2)\n",
    "    if Positions[pos] == 'B':\n",
    "        if Positions[pos - 1] == '-':\n",
    "            pos2 = (pos-1)\n",
    "        elif Positions[pos - 2] == '-':\n",
    "            pos2 = (pos-2)\n",
    "    Positions[pos], Positions[pos2] = Positions[pos2], Positions[pos]\n",
    "\n",
    "    print(\"[ 0 ,  1 ,  2 ,  3 ,  4 ,  5 ,  6 ]\")\n",
    "    print(Positions)\n",
    "\n",
    "    if Positions == ['B','B','B','-','G','G','G']:\n",
    "        print(\"YOU WIN\")\n",
    "        break"
   ]
  }
 ],
 "metadata": {
  "kernelspec": {
   "display_name": "Python 3",
   "language": "python",
   "name": "python3"
  },
  "language_info": {
   "codemirror_mode": {
    "name": "ipython",
    "version": 3
   },
   "file_extension": ".py",
   "mimetype": "text/x-python",
   "name": "python",
   "nbconvert_exporter": "python",
   "pygments_lexer": "ipython3",
   "version": "3.10.6"
  }
 },
 "nbformat": 4,
 "nbformat_minor": 2
}
